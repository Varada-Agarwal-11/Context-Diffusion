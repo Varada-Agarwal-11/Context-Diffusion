{
 "cells": [
  {
   "cell_type": "code",
   "execution_count": 7,
   "id": "48c6c853-1122-4aae-9590-0561de1b731b",
   "metadata": {},
   "outputs": [],
   "source": [
    "from datasets import load_dataset\n",
    "\n",
    "ds = load_dataset(\"lansinuote/diffusion.8.instruct_pix2pix\")"
   ]
  },
  {
   "cell_type": "code",
   "execution_count": 5,
   "id": "3edd4f08-3a9a-457b-9c9d-335700be8fb4",
   "metadata": {},
   "outputs": [
    {
     "data": {
      "text/plain": [
       "Dataset({\n",
       "    features: ['input', 'text', 'output'],\n",
       "    num_rows: 1000\n",
       "})"
      ]
     },
     "execution_count": 5,
     "metadata": {},
     "output_type": "execute_result"
    }
   ],
   "source": [
    "ds[\"train\"]"
   ]
  },
  {
   "cell_type": "code",
   "execution_count": null,
   "id": "884d763a-d92e-4aef-832c-59ff51432a28",
   "metadata": {},
   "outputs": [],
   "source": [
    "# output_dir = \"saved_images\"\n",
    "# os.makedirs(output_dir, exist_ok=True)\n",
    "# image_data = ds[\"train\"][1]['input']\n",
    "# image_path = os.path.join(output_dir, f\"image_1.png\")\n",
    "# image_data.save(image_path)"
   ]
  },
  {
   "cell_type": "code",
   "execution_count": 15,
   "id": "6feb9403-cbdb-4a46-8c51-d7fc2194b322",
   "metadata": {},
   "outputs": [
    {
     "name": "stdout",
     "output_type": "stream",
     "text": [
      "Saved all images to saved_images_2\n"
     ]
    }
   ],
   "source": [
    "from PIL import Image\n",
    "import os\n",
    "\n",
    "# Create a directory to save the images\n",
    "output_dir = \"saved_images_2\"\n",
    "os.makedirs(output_dir, exist_ok=True)\n",
    "\n",
    "# Loop through each example in the dataset\n",
    "for idx, item in enumerate(ds[\"train\"]):\n",
    "    image_data = item['input']  # Assuming 'input' holds the image data\n",
    "    output_data = item['output']\n",
    "    \n",
    "    # Convert to PIL image if not already\n",
    "    if not isinstance(image_data, Image.Image):\n",
    "        image_data = Image.fromarray(image_data)  # Assuming image_data is a numpy array\n",
    "    \n",
    "    # Save the image\n",
    "    image_path = os.path.join(output_dir, f\"{idx}_0.png\")\n",
    "    output_path = os.path.join(output_dir, f\"{idx}_1.png\")\n",
    "    image_data.save(image_path)\n",
    "    output_data.save(output_path)\n",
    "\n",
    "print(f\"Saved all images to {output_dir}\")"
   ]
  },
  {
   "cell_type": "code",
   "execution_count": null,
   "id": "b4266dfb-67d3-4f8b-8a5f-f41ccc391ac4",
   "metadata": {},
   "outputs": [],
   "source": [
    "#images saved and seeds.json is mdde, now we need to annotate"
   ]
  }
 ],
 "metadata": {
  "kernelspec": {
   "display_name": "Python 3 (ipykernel)",
   "language": "python",
   "name": "python3"
  },
  "language_info": {
   "codemirror_mode": {
    "name": "ipython",
    "version": 3
   },
   "file_extension": ".py",
   "mimetype": "text/x-python",
   "name": "python",
   "nbconvert_exporter": "python",
   "pygments_lexer": "ipython3",
   "version": "3.12.4"
  }
 },
 "nbformat": 4,
 "nbformat_minor": 5
}
