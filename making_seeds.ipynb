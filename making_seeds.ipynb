{
 "cells": [
  {
   "cell_type": "code",
   "execution_count": 5,
   "id": "32830d29-7c46-4033-b35a-6209390453d4",
   "metadata": {},
   "outputs": [],
   "source": [
    "# import json\n",
    "# from argparse import ArgumentParser\n",
    "# from pathlib import Path\n",
    "\n",
    "# from tqdm.auto import tqdm\n",
    "\n",
    "\n",
    "# def main():\n",
    "#     # parser = ArgumentParser()\n",
    "#     # parser.add_argument(\"dataset_dir\")\n",
    "#     # args = parser.parse_args()\n",
    "#     # dataset_dir = Path(args.dataset_dir)\n",
    "#     dataset_dir = \"saved_images\"\n",
    "\n",
    "#     seeds = []\n",
    "#     with tqdm(desc=\"Listing dataset image seeds\") as progress_bar:\n",
    "#         for prompt_dir in dataset_dir:\n",
    "#             # if prompt_dir.is_dir():\n",
    "#                 prompt_seeds = [image_path.name.split(\"_\")[0] for image_path in sorted(prompt_dir.glob(\"*.jpg\"))]\n",
    "#                 if len(prompt_seeds) > 0:\n",
    "#                     seeds.append((prompt_dir.name, prompt_seeds))\n",
    "#                     progress_bar.update()\n",
    "#     seeds.sort()\n",
    "\n",
    "#     with open(dataset_dir.joinpath(\"seeds.json\"), \"w\") as f:\n",
    "#         json.dump(seeds, f)\n",
    "\n",
    "\n",
    "# if __name__ == \"__main__\":\n",
    "#     main()"
   ]
  },
  {
   "cell_type": "code",
   "execution_count": 6,
   "id": "62fd291a-2645-42e0-8bb5-e7d7c7883e56",
   "metadata": {},
   "outputs": [
    {
     "data": {
      "application/vnd.jupyter.widget-view+json": {
       "model_id": "3d09f7d7965345fa91133b004e9407ec",
       "version_major": 2,
       "version_minor": 0
      },
      "text/plain": [
       "Listing dataset image seeds: 0it [00:00, ?it/s]"
      ]
     },
     "metadata": {},
     "output_type": "display_data"
    },
    {
     "name": "stdout",
     "output_type": "stream",
     "text": [
      "Seeds saved to saved_images_2\\seeds.json\n"
     ]
    }
   ],
   "source": [
    "import json\n",
    "from pathlib import Path\n",
    "from tqdm.auto import tqdm\n",
    "\n",
    "def main():\n",
    "    # Directory containing saved images\n",
    "    dataset_dir = Path(\"saved_images_2\")\n",
    "\n",
    "    seeds = []\n",
    "    with tqdm(desc=\"Listing dataset image seeds\") as progress_bar:\n",
    "        # Iterate over each image file in the directory\n",
    "        for image_path in sorted(dataset_dir.glob(\"*_0.png\")):\n",
    "            # Extract the seed from the filename (assuming the filename format is 'seed_something.png')\n",
    "            seed = image_path.name.split(\"_\")[0]\n",
    "            seeds.append(seed)\n",
    "            progress_bar.update()\n",
    "\n",
    "    # Sort seeds alphabetically\n",
    "    seeds.sort()\n",
    "\n",
    "    # Save seeds to a JSON file in the dataset directory\n",
    "    with open(dataset_dir / \"seeds.json\", \"w\") as f:\n",
    "        json.dump(seeds, f)\n",
    "\n",
    "    print(f\"Seeds saved to {dataset_dir / 'seeds.json'}\")\n",
    "\n",
    "if __name__ == \"__main__\":\n",
    "    main()\n"
   ]
  },
  {
   "cell_type": "code",
   "execution_count": null,
   "id": "e00e3a30-6f80-4bbc-8f01-5a2609a90b4d",
   "metadata": {},
   "outputs": [],
   "source": []
  }
 ],
 "metadata": {
  "kernelspec": {
   "display_name": "Python 3 (ipykernel)",
   "language": "python",
   "name": "python3"
  },
  "language_info": {
   "codemirror_mode": {
    "name": "ipython",
    "version": 3
   },
   "file_extension": ".py",
   "mimetype": "text/x-python",
   "name": "python",
   "nbconvert_exporter": "python",
   "pygments_lexer": "ipython3",
   "version": "3.12.4"
  }
 },
 "nbformat": 4,
 "nbformat_minor": 5
}
