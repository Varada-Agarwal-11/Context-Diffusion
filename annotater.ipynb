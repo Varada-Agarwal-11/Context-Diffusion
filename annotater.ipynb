{
 "cells": [
  {
   "cell_type": "code",
   "execution_count": 3,
   "id": "32830d29-7c46-4033-b35a-6209390453d4",
   "metadata": {},
   "outputs": [
    {
     "name": "stderr",
     "output_type": "stream",
     "text": [
      "C:\\Users\\Varada Agarwal\\AppData\\Local\\Programs\\Python\\Python312\\Lib\\site-packages\\timm\\models\\layers\\__init__.py:48: FutureWarning: Importing from timm.models.layers is deprecated, please import via timm.layers\n",
      "  warnings.warn(f\"Importing from {__name__} is deprecated, please import via timm.layers\", FutureWarning)\n"
     ]
    }
   ],
   "source": [
    "import json\n",
    "import argparse\n",
    "from pathlib import Path\n",
    "import numpy as np\n",
    "from tqdm import tqdm\n",
    "\n",
    "from PIL import Image\n",
    "\n",
    "from annotator.hed import HEDdetector\n",
    "from annotator.uniformer import UniformerDetector\n",
    "from annotator.midas import MidasDetector\n",
    "# parser = argparse.ArgumentParser()\n",
    "# parser.add_argument(\"--path\", type=str, default=\"logs\", help=\"directory for logging dat shit\")\n",
    "# parser.add_argument(\"--i_start\", type=int, default=0, help=\"Start Seed\")\n",
    "# parser.add_argument(\"--i_end\", type=int, default=100, help=\"End Seed\")\n",
    "# args = parser.parse_args()"
   ]
  },
  {
   "cell_type": "code",
   "execution_count": 4,
   "id": "b2fb1355-aa98-472e-8ce1-828fb19baf26",
   "metadata": {},
   "outputs": [],
   "source": [
    "# !pip install addict\n",
    "# !pip install yapf\n",
    "# !pip install prettytable\n",
    "# !pip install basicsr\n",
    "from torchvision.transforms.functional import rgb_to_grayscale"
   ]
  },
  {
   "cell_type": "code",
   "execution_count": 5,
   "id": "4d2fec2c-313a-4a2b-95dc-53236ceeff9b",
   "metadata": {},
   "outputs": [
    {
     "name": "stdout",
     "output_type": "stream",
     "text": [
      "Length of Seeds: 1000\n",
      "Use Checkpoint: False\n",
      "Checkpoint Number: [0, 0, 0, 0]\n",
      "Use global window for all blocks in stage3\n",
      "load checkpoint from local path: C:\\Users\\Varada Agarwal\\Desktop\\Kanpur\\sem 9\\tushar sir pgp\\Prompt-Diffusion-main\\Prompt-Diffusion-main\\annotator\\ckpts\\upernet_global_small.pth\n"
     ]
    },
    {
     "name": "stderr",
     "output_type": "stream",
     "text": [
      "C:\\Users\\Varada Agarwal\\AppData\\Local\\Programs\\Python\\Python312\\Lib\\site-packages\\timm\\models\\_factory.py:117: UserWarning: Mapping deprecated model name vit_base_resnet50_384 to current vit_base_r50_s16_384.orig_in21k_ft_in1k.\n",
      "  model = create_fn(\n"
     ]
    }
   ],
   "source": [
    "path = \"saved_images_2\"\n",
    "i_start = 0\n",
    "i_end = 999\n",
    "\n",
    "with open(Path(path, \"seeds.json\")) as f:\n",
    "    seeds = json.load(f)\n",
    "\n",
    "print(f\"Length of Seeds: {len(seeds)}\")\n",
    "i_end = min(len(seeds), i_end)\n",
    "\n",
    "hed_annotator = HEDdetector()\n",
    "uniformer_annotator = UniformerDetector()\n",
    "midas_annotator = MidasDetector()"
   ]
  },
  {
   "cell_type": "code",
   "execution_count": 6,
   "id": "e00e3a30-6f80-4bbc-8f01-5a2609a90b4d",
   "metadata": {},
   "outputs": [
    {
     "name": "stderr",
     "output_type": "stream",
     "text": [
      "  0%|                                                                                         | 0/1000 [00:00<?, ?it/s]C:\\Users\\Varada Agarwal\\Desktop\\Kanpur\\sem 9\\tushar sir pgp\\Prompt-Diffusion-main\\Prompt-Diffusion-main\\annotator\\uniformer\\mmseg\\models\\segmentors\\base.py:271: UserWarning: show==False and out_file is not specified, only result image will be returned\n",
      "  warnings.warn('show==False and out_file is not specified, only '\n",
      "  4%|███▏                                                                         | 42/1000 [31:10<11:50:59, 44.53s/it]\n",
      "\n",
      "KeyboardInterrupt\n",
      "\n"
     ]
    }
   ],
   "source": [
    "i_start, i_end = 0, len(seeds)  # Update as appropriate\n",
    "N = int(i_end - i_start)\n",
    "\n",
    "propt_dir = Path(\"saved_images_2\")\n",
    "propt_dir.mkdir(parents=True, exist_ok=True)  # Ensure the directory exists\n",
    "\n",
    "for i in tqdm(range(i_start, i_end), total=N, miniters=int(N/100), maxinterval=600):\n",
    "    i_seeds = seeds[i]\n",
    "    for seed in i_seeds:\n",
    "        image_path = propt_dir / f\"{seed}_0.png\"  # Use .png if your files have .png extension\n",
    "        if not image_path.exists():\n",
    "            print(f\"Image {image_path} not found. Skipping.\")\n",
    "            continue\n",
    "\n",
    "        # Open the image\n",
    "        image = Image.open(image_path)\n",
    "\n",
    "        # Generate and save HED annotated image\n",
    "        hed_path = propt_dir / f\"{seed}_0_hed.png\"\n",
    "        image_hed = hed_annotator(np.array(image))\n",
    "        Image.fromarray(image_hed).save(hed_path)\n",
    "\n",
    "        # Generate and save segmentation annotated image\n",
    "        seg_path = propt_dir / f\"{seed}_0_seg.png\"\n",
    "        image_seg = uniformer_annotator(np.array(image))\n",
    "        Image.fromarray(image_seg).save(seg_path)\n",
    "\n",
    "        # Generate and save depth and normal annotated images\n",
    "        depth_path = propt_dir / f\"{seed}_0_depth.png\"\n",
    "        normal_path = propt_dir / f\"{seed}_0_normal.png\"\n",
    "        image_depth, image_normal = midas_annotator(np.array(image))\n",
    "        Image.fromarray(image_depth).save(depth_path)\n",
    "        Image.fromarray(image_normal).save(normal_path)"
   ]
  },
  {
   "cell_type": "code",
   "execution_count": null,
   "id": "f0fc8105-bd06-49c3-8088-04d01d32f6a0",
   "metadata": {},
   "outputs": [],
   "source": []
  }
 ],
 "metadata": {
  "kernelspec": {
   "display_name": "Python 3 (ipykernel)",
   "language": "python",
   "name": "python3"
  },
  "language_info": {
   "codemirror_mode": {
    "name": "ipython",
    "version": 3
   },
   "file_extension": ".py",
   "mimetype": "text/x-python",
   "name": "python",
   "nbconvert_exporter": "python",
   "pygments_lexer": "ipython3",
   "version": "3.12.4"
  }
 },
 "nbformat": 4,
 "nbformat_minor": 5
}
